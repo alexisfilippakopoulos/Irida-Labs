{
 "cells": [
  {
   "cell_type": "code",
   "execution_count": 1,
   "metadata": {},
   "outputs": [],
   "source": [
    "from torchvision import datasets, transforms\n",
    "from torch.utils.data import DataLoader, Subset, random_split\n",
    "import pickle\n",
    "import numpy as np"
   ]
  },
  {
   "cell_type": "code",
   "execution_count": 2,
   "metadata": {},
   "outputs": [],
   "source": [
    "def flip_labels(dataset, flip_percentage):\n",
    "    np.random.seed(32)\n",
    "    num_samples = len(dataset)\n",
    "    num_classes = len(dataset.classes)\n",
    "    s = 0\n",
    "    arr = np.array([])\n",
    "\n",
    "    for i in range(num_samples):\n",
    "        img, label = dataset[i]\n",
    "        \n",
    "        if np.random.rand() < flip_percentage and s < num_samples * flip_percentage:\n",
    "            new_label = np.random.choice(num_classes)\n",
    "            s +=1\n",
    "            arr = np.append(arr, dataset.targets[i])\n",
    "            while new_label == label:\n",
    "                new_label = np.random.choice(num_classes)\n",
    "            \n",
    "            dataset.targets[i] = new_label\n",
    "    \n",
    "    return dataset, s, arr"
   ]
  },
  {
   "cell_type": "code",
   "execution_count": 3,
   "metadata": {},
   "outputs": [],
   "source": [
    "def get_dataset(data, shard: list):\n",
    "        indices = []\n",
    "\n",
    "        for i in range(len(data.targets)):\n",
    "            if data.targets[i] in shard:\n",
    "                indices.append(i)\n",
    "\n",
    "        return indices"
   ]
  },
  {
   "cell_type": "code",
   "execution_count": 4,
   "metadata": {},
   "outputs": [],
   "source": [
    "def get_dataloader(data: datasets, batch_size: int, shuffle: bool, split_flag: bool = False):\n",
    "    if split_flag:\n",
    "        training_data, validation_data = random_split(data, [int((1 - 0.2) * len(data)), int(0.2 * len(data))])\n",
    "        return DataLoader(dataset=training_data, batch_size=batch_size, num_workers=2, pin_memory=True, shuffle=shuffle), DataLoader(dataset=validation_data, batch_size=batch_size, num_workers=2, pin_memory=True, shuffle=shuffle)\n",
    "    \n",
    "    return DataLoader(dataset=data, batch_size=batch_size, num_workers=2, pin_memory=True, shuffle=shuffle)"
   ]
  },
  {
   "cell_type": "code",
   "execution_count": 5,
   "metadata": {},
   "outputs": [
    {
     "name": "stdout",
     "output_type": "stream",
     "text": [
      "Downloading http://fashion-mnist.s3-website.eu-central-1.amazonaws.com/train-images-idx3-ubyte.gz\n",
      "Downloading http://fashion-mnist.s3-website.eu-central-1.amazonaws.com/train-images-idx3-ubyte.gz to data/FashionMNIST\\raw\\train-images-idx3-ubyte.gz\n"
     ]
    },
    {
     "data": {
      "application/vnd.jupyter.widget-view+json": {
       "model_id": "c7151aa3fb4f45219a57b117a200f413",
       "version_major": 2,
       "version_minor": 0
      },
      "text/plain": [
       "  0%|          | 0/26421880 [00:00<?, ?it/s]"
      ]
     },
     "metadata": {},
     "output_type": "display_data"
    },
    {
     "name": "stdout",
     "output_type": "stream",
     "text": [
      "Extracting data/FashionMNIST\\raw\\train-images-idx3-ubyte.gz to data/FashionMNIST\\raw\n",
      "\n",
      "Downloading http://fashion-mnist.s3-website.eu-central-1.amazonaws.com/train-labels-idx1-ubyte.gz\n",
      "Downloading http://fashion-mnist.s3-website.eu-central-1.amazonaws.com/train-labels-idx1-ubyte.gz to data/FashionMNIST\\raw\\train-labels-idx1-ubyte.gz\n"
     ]
    },
    {
     "data": {
      "application/vnd.jupyter.widget-view+json": {
       "model_id": "b6b374b1d69347a6a0996ef46e59bbae",
       "version_major": 2,
       "version_minor": 0
      },
      "text/plain": [
       "  0%|          | 0/29515 [00:00<?, ?it/s]"
      ]
     },
     "metadata": {},
     "output_type": "display_data"
    },
    {
     "name": "stdout",
     "output_type": "stream",
     "text": [
      "Extracting data/FashionMNIST\\raw\\train-labels-idx1-ubyte.gz to data/FashionMNIST\\raw\n",
      "\n",
      "Downloading http://fashion-mnist.s3-website.eu-central-1.amazonaws.com/t10k-images-idx3-ubyte.gz\n",
      "Downloading http://fashion-mnist.s3-website.eu-central-1.amazonaws.com/t10k-images-idx3-ubyte.gz to data/FashionMNIST\\raw\\t10k-images-idx3-ubyte.gz\n"
     ]
    },
    {
     "data": {
      "application/vnd.jupyter.widget-view+json": {
       "model_id": "01a4d271cad646768c7868f73dccfeaa",
       "version_major": 2,
       "version_minor": 0
      },
      "text/plain": [
       "  0%|          | 0/4422102 [00:00<?, ?it/s]"
      ]
     },
     "metadata": {},
     "output_type": "display_data"
    },
    {
     "name": "stdout",
     "output_type": "stream",
     "text": [
      "Extracting data/FashionMNIST\\raw\\t10k-images-idx3-ubyte.gz to data/FashionMNIST\\raw\n",
      "\n",
      "Downloading http://fashion-mnist.s3-website.eu-central-1.amazonaws.com/t10k-labels-idx1-ubyte.gz\n",
      "Downloading http://fashion-mnist.s3-website.eu-central-1.amazonaws.com/t10k-labels-idx1-ubyte.gz to data/FashionMNIST\\raw\\t10k-labels-idx1-ubyte.gz\n"
     ]
    },
    {
     "data": {
      "application/vnd.jupyter.widget-view+json": {
       "model_id": "ed988b707ba74a718aed73a76e994575",
       "version_major": 2,
       "version_minor": 0
      },
      "text/plain": [
       "  0%|          | 0/5148 [00:00<?, ?it/s]"
      ]
     },
     "metadata": {},
     "output_type": "display_data"
    },
    {
     "name": "stdout",
     "output_type": "stream",
     "text": [
      "Extracting data/FashionMNIST\\raw\\t10k-labels-idx1-ubyte.gz to data/FashionMNIST\\raw\n",
      "\n"
     ]
    }
   ],
   "source": [
    "transform = transforms.Compose([transforms.ToTensor(), transforms.Normalize((0.5, ), (0.5, ), )])\n",
    "dataset = datasets.FashionMNIST(download=True, root='data/', train=True, transform=transform)\n",
    "data_to_flip = datasets.FashionMNIST(download=True, root='data/', train=True, transform=transform)"
   ]
  },
  {
   "cell_type": "code",
   "execution_count": 6,
   "metadata": {},
   "outputs": [],
   "source": [
    "def flip_distribution(flip_factor, data):\n",
    "    flipped_data, counter, flips = flip_labels(data, flip_factor)\n",
    "    print(f\"Label Distribution After Flipping {flip_factor * 100}%:\")\n",
    "    flipped_stats = np.unique(flipped_data.targets, return_counts=True)\n",
    "    print(f'\\tTotal Flips:  {counter}')\n",
    "    print('\\tClass: ', flipped_stats[0])\n",
    "    print('\\tData: ', flipped_stats[1])\n",
    "    print('\\tNumber of samples flipped per class: ', np.unique(flips, return_counts=True)[1])\n",
    "    return flipped_data, flipped_stats, counter, flips"
   ]
  },
  {
   "cell_type": "code",
   "execution_count": 7,
   "metadata": {},
   "outputs": [],
   "source": [
    "def write_metadata(path, flipped_stats, flipped_data, flips, flipped_sub, counter):\n",
    "    with open(path, 'w') as file:\n",
    "        file.write(f\"\"\"Dataset: FashionMNIST\n",
    "    Total Flips:  {counter}\n",
    "    Classes: {flipped_stats[0]}\n",
    "    Data: {flipped_stats[1]}\n",
    "    Number of samples flipped per class: {np.unique(flips, return_counts=True)[1]}\n",
    "    Subset Distribution: {np.unique(flipped_data.targets[flipped_sub.indices], return_counts=True)[1]}\n",
    "        \"\"\")    "
   ]
  },
  {
   "cell_type": "code",
   "execution_count": 9,
   "metadata": {},
   "outputs": [
    {
     "name": "stdout",
     "output_type": "stream",
     "text": [
      "Label Distribution After Flipping 5.0%:\n",
      "\tTotal Flips:  2986\n",
      "\tClass:  [0 1 2 3 4 5 6 7 8 9]\n",
      "\tData:  [5973 6022 6021 5982 6036 6001 5965 5983 5984 6033]\n",
      "\tNumber of samples flipped per class:  [301 299 297 313 272 318 303 303 318 262]\n",
      "Label Distribution After Flipping 10.0%:\n",
      "\tTotal Flips:  5986\n",
      "\tClass:  [0 1 2 3 4 5 6 7 8 9]\n",
      "\tData:  [5943 6058 6045 6002 6029 6052 5940 5961 6004 5966]\n",
      "\tNumber of samples flipped per class:  [598 562 597 606 609 596 590 604 580 644]\n",
      "Label Distribution After Flipping 15.0%:\n",
      "\tTotal Flips:  8984\n",
      "\tClass:  [0 1 2 3 4 5 6 7 8 9]\n",
      "\tData:  [5911 6067 6029 6021 6042 6098 5874 6000 6034 5924]\n",
      "\tNumber of samples flipped per class:  [931 894 906 877 886 875 899 874 912 930]\n"
     ]
    }
   ],
   "source": [
    "flip_percentages = [0.05, 0.1, 0.15]\n",
    "shards = {'0': [0, 1, 5, 6, 9], '1': [2, 3, 4, 7, 8], '2': [0, 1, 5, 7, 8], '3': [2, 3, 4, 6, 9]}\n",
    "general_path = f'mislabeled_subsets/'\n",
    "\n",
    "for percent in flip_percentages:\n",
    "    flipped_data, flipped_stats, counter, flips = flip_distribution(flip_factor=percent, data=data_to_flip)\n",
    "    with open(general_path + f'{percent}/metadata.txt', 'w') as file:\n",
    "        file.write(f\"\"\"Dataset: FashionMNIST\n",
    "    Total Flips:  {counter}\n",
    "    Classes: {flipped_stats[0]}\n",
    "    Data: {flipped_stats[1]}\n",
    "    Number of samples flipped per class: {np.unique(flips, return_counts=True)[1]}\"\"\")\n",
    "        \n",
    "    for shard_id, shard in shards.items():\n",
    "        sub_indices = get_dataset(dataset, shard)\n",
    "        flipped_sub = Subset(dataset=flipped_data, indices=sub_indices)\n",
    "        with open(general_path + f'{percent}/subset_{shard_id}.pkl', \"wb\") as file:\n",
    "            pickle.dump(flipped_sub, file)\n",
    "        with open(general_path + f'{percent}/metadata.txt', 'a') as file:\n",
    "            file.write(f\"\\nSubset {shard_id} Distribution: {np.unique(flipped_data.targets[flipped_sub.indices], return_counts=True)[1]}\")\n"
   ]
  },
  {
   "cell_type": "code",
   "execution_count": null,
   "metadata": {},
   "outputs": [],
   "source": []
  }
 ],
 "metadata": {
  "kernelspec": {
   "display_name": "base",
   "language": "python",
   "name": "python3"
  },
  "language_info": {
   "codemirror_mode": {
    "name": "ipython",
    "version": 3
   },
   "file_extension": ".py",
   "mimetype": "text/x-python",
   "name": "python",
   "nbconvert_exporter": "python",
   "pygments_lexer": "ipython3",
   "version": "3.9.13"
  }
 },
 "nbformat": 4,
 "nbformat_minor": 2
}
